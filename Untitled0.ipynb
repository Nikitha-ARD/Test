{
  "nbformat": 4,
  "nbformat_minor": 0,
  "metadata": {
    "colab": {
      "provenance": []
    },
    "kernelspec": {
      "name": "python3",
      "display_name": "Python 3"
    },
    "language_info": {
      "name": "python"
    }
  },
  "cells": [
    {
      "cell_type": "code",
      "execution_count": null,
      "metadata": {
        "colab": {
          "base_uri": "https://localhost:8080/"
        },
        "id": "sFOYTMvpajf9",
        "outputId": "6a4dff7a-7a3a-4f32-ba03-e3dde247eead"
      },
      "outputs": [
        {
          "output_type": "stream",
          "name": "stdout",
          "text": [
            "yes\n"
          ]
        }
      ],
      "source": [
        "if \"2+2=4\": print (\"yes\")\n"
      ]
    },
    {
      "cell_type": "markdown",
      "source": [],
      "metadata": {
        "id": "fYOE_5C-fp8P"
      }
    },
    {
      "cell_type": "code",
      "source": [
        "# data types\n",
        "\n",
        "''' practice program '''\n",
        "\n",
        "x = 5\n",
        "\n",
        "print(type(x))\n",
        "print(x)\n",
        "\n",
        "x = 5.5\n",
        "\n",
        "print(type(x))\n",
        "print(x)\n",
        "\n",
        "x = \"Abcd\"\n",
        "\n",
        "print(type(x))\n",
        "print(x)"
      ],
      "metadata": {
        "colab": {
          "base_uri": "https://localhost:8080/"
        },
        "id": "voX6k5gNbz9g",
        "outputId": "73f74798-fc50-49ee-95a8-3b7a6091f13a"
      },
      "execution_count": null,
      "outputs": [
        {
          "output_type": "stream",
          "name": "stdout",
          "text": [
            "<class 'int'>\n",
            "5\n",
            "<class 'float'>\n",
            "5.5\n",
            "<class 'str'>\n",
            "Abcd\n"
          ]
        }
      ]
    },
    {
      "cell_type": "code",
      "source": [
        "x = 5\n",
        "\n",
        "print(\"Data type : \", type(x))\n",
        "print(\"Value : \",x)\n",
        "print(\"Memory address : \",id(x))\n",
        "\n",
        "y = 5\n",
        "\n",
        "print(\"Data type : \", type(y))\n",
        "print(\"Value : \",y)\n",
        "print(\"Memory address : \",id(y))\n"
      ],
      "metadata": {
        "colab": {
          "base_uri": "https://localhost:8080/"
        },
        "id": "8FFTshVjceW6",
        "outputId": "81476581-e7a8-4454-cc24-ecb13b7f7da1"
      },
      "execution_count": null,
      "outputs": [
        {
          "output_type": "stream",
          "name": "stdout",
          "text": [
            "Data type :  <class 'int'>\n",
            "Value :  5\n",
            "Memory address :  10750984\n",
            "Data type :  <class 'int'>\n",
            "Value :  5\n",
            "Memory address :  10750984\n"
          ]
        }
      ]
    }
  ]
}